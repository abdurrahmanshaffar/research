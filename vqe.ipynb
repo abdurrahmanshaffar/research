{
 "cells": [
  {
   "cell_type": "markdown",
   "metadata": {},
   "source": [
    "### Backend"
   ]
  },
  {
   "cell_type": "code",
   "execution_count": 10,
   "metadata": {},
   "outputs": [],
   "source": [
    "from qiskit import Aer\n",
    "backend = Aer.get_backend('statevector_simulator')"
   ]
  },
  {
   "cell_type": "markdown",
   "metadata": {},
   "source": [
    "### Set Molecules"
   ]
  },
  {
   "cell_type": "code",
   "execution_count": 8,
   "metadata": {},
   "outputs": [],
   "source": [
    "from qiskit_nature.drivers import Molecule\n",
    "from qiskit_nature.drivers.second_quantization import ElectronicStructureMoleculeDriver, ElectronicStructureDriverType\n",
    "\n",
    "\n",
    "molecule = Molecule(\n",
    "    # coordinates are given in Angstrom\n",
    "    geometry=[\n",
    "        [\"O\", [0.0, 0.0, 0.0]],\n",
    "        [\"H\", [0.758602, 0.0, 0.504284]],\n",
    "        [\"H\", [0.758602, 0.0, -0.504284]]\n",
    "    ],\n",
    "    multiplicity=1,  # = 2*spin + 1\n",
    "    charge=0,\n",
    ")\n",
    "\n",
    "driver = ElectronicStructureMoleculeDriver(\n",
    "    molecule=molecule,\n",
    "    basis=\"sto3g\",\n",
    "    driver_type=ElectronicStructureDriverType.PYSCF,\n",
    ")\n",
    "\n",
    "properties = driver.run()"
   ]
  },
  {
   "cell_type": "code",
   "execution_count": 2,
   "metadata": {},
   "outputs": [
    {
     "name": "stdout",
     "output_type": "stream",
     "text": [
      "ParticleNumber:\n",
      "\t14 SOs\n",
      "\t5 alpha electrons\n",
      "\t\torbital occupation: [1. 1. 1. 1. 1. 0. 0.]\n",
      "\t5 beta electrons\n",
      "\t\torbital occupation: [1. 1. 1. 1. 1. 0. 0.]\n"
     ]
    }
   ],
   "source": [
    "from qiskit_nature.transformers.second_quantization.electronic import ActiveSpaceTransformer\n",
    "\n",
    "# Check the occupation of the spin orbitals\n",
    "PN_property = properties.get_property(\"ParticleNumber\")\n",
    "print(PN_property)\n",
    "\n",
    "# Define the active space around the Fermi level \n",
    "# (selected automatically around the HOMO and LUMO, ordered by energy)\n",
    "transformer = ActiveSpaceTransformer(\n",
    "    num_electrons=2, #how many electrons we have in our active space\n",
    "    num_molecular_orbitals=2, #how many orbitals we have in our active space\n",
    ")\n",
    "\n",
    "\n",
    "# We can hand-pick the MOs to be included in the AS\n",
    "# (in case they are not exactly around the Fermi level)\n",
    "\n",
    "# transformer = ActiveSpaceTransformer(\n",
    "#     num_electrons=2, #how many electrons we have in our active space\n",
    "#     num_molecular_orbitals=2, #how many orbitals we have in our active space\n",
    "#     active_orbitals=[4,7], #We are specifically choosing MO number 4 (occupied with two electrons) and 7 (empty)\n",
    "# )"
   ]
  },
  {
   "cell_type": "markdown",
   "metadata": {},
   "source": [
    "### Hamiltonian"
   ]
  },
  {
   "cell_type": "code",
   "execution_count": 3,
   "metadata": {},
   "outputs": [
    {
     "name": "stdout",
     "output_type": "stream",
     "text": [
      "Fermionic Operator\n",
      "register length=4, number terms=36\n",
      "  -1.2879605266732743 * ( +_0 -_0 )\n",
      "+ -0.5749964325186913 * ( +_1 -_1 )\n",
      "+ -1.2879605266732743 * ( +_2 -_2 )\n",
      "+ -0.5749964325186913 * ( +_3 -_3 )\n",
      "+ -0.4400795466875222 * ( +_0 +_0 -_0 -_0 )\n",
      "+ -0.019 ...\n"
     ]
    }
   ],
   "source": [
    "from qiskit_nature.problems.second_quantization.electronic import ElectronicStructureProblem\n",
    "\n",
    "problem = ElectronicStructureProblem(driver, [transformer])\n",
    "\n",
    "second_q_ops = problem.second_q_ops() # this calls driver.run() internally\n",
    "\n",
    "hamiltonian = second_q_ops[0]\n",
    "\n",
    "print(hamiltonian)"
   ]
  },
  {
   "cell_type": "markdown",
   "metadata": {},
   "source": [
    "### Qubit Mapping"
   ]
  },
  {
   "cell_type": "code",
   "execution_count": 4,
   "metadata": {},
   "outputs": [
    {
     "name": "stdout",
     "output_type": "stream",
     "text": [
      "-0.8720633572288621 * IIII\n",
      "+ 0.11923749314031658 * IIIZ\n",
      "- 0.1786526155074367 * IIZI\n",
      "+ 0.11923749314031662 * IZII\n",
      "- 0.1786526155074367 * ZIII\n",
      "+ 0.1475343334568581 * IIZZ\n",
      "+ 0.2200397733437611 * IZIZ\n",
      "+ 0.009634329938843242 * YYYY\n",
      "+ 0.009634329938843242 * XXYY\n",
      "+ 0.009634329938843242 * YYXX\n",
      "+ 0.009634329938843242 * XXXX\n",
      "+ 0.15716866339570135 * ZIIZ\n",
      "+ 0.15716866339570135 * IZZI\n",
      "+ 0.16144783491422288 * ZIZI\n",
      "+ 0.1475343334568581 * ZZII\n"
     ]
    }
   ],
   "source": [
    "from qiskit_nature.mappers.second_quantization import ParityMapper, BravyiKitaevMapper, JordanWignerMapper\n",
    "from qiskit_nature.converters.second_quantization import QubitConverter\n",
    "\n",
    "# Setup the mapper and qubit converter\n",
    "mapper_type = 'JordanWignerMapper'\n",
    "\n",
    "if mapper_type == 'ParityMapper':\n",
    "    mapper = ParityMapper()\n",
    "elif mapper_type == 'JordanWignerMapper':\n",
    "    mapper = JordanWignerMapper()\n",
    "elif mapper_type == 'BravyiKitaevMapper':\n",
    "    mapper = BravyiKitaevMapper()\n",
    "\n",
    "converter = QubitConverter(mapper)\n",
    "\n",
    "qubit_op = converter.convert(hamiltonian)\n",
    "print(qubit_op)"
   ]
  },
  {
   "cell_type": "markdown",
   "metadata": {},
   "source": [
    "### Initial State"
   ]
  },
  {
   "cell_type": "code",
   "execution_count": 5,
   "metadata": {},
   "outputs": [
    {
     "name": "stdout",
     "output_type": "stream",
     "text": [
      "     ┌───┐\n",
      "q_0: ┤ X ├\n",
      "     └───┘\n",
      "q_1: ─────\n",
      "     ┌───┐\n",
      "q_2: ┤ X ├\n",
      "     └───┘\n",
      "q_3: ─────\n",
      "          \n"
     ]
    }
   ],
   "source": [
    "from qiskit_nature.circuit.library import HartreeFock\n",
    "\n",
    "particle_number = problem.grouped_property_transformed.get_property(\"ParticleNumber\")\n",
    "num_spin_orbitals = particle_number.num_spin_orbitals\n",
    "num_particles = particle_number.num_particles\n",
    "\n",
    "\n",
    "init_state = HartreeFock(num_spin_orbitals, num_particles, converter)\n",
    "print(init_state)"
   ]
  },
  {
   "cell_type": "markdown",
   "metadata": {},
   "source": [
    "#### Ansatz"
   ]
  },
  {
   "cell_type": "code",
   "execution_count": 7,
   "metadata": {},
   "outputs": [
    {
     "name": "stdout",
     "output_type": "stream",
     "text": [
      "     ┌───────────┐┌──────────┐┌──────────┐                  \n",
      "q_0: ┤ U3(π,0,π) ├┤ Ry(θ[0]) ├┤ Rz(θ[4]) ├─■──■─────■───────\n",
      "     └┬──────────┤├──────────┤└──────────┘ │  │     │       \n",
      "q_1: ─┤ Ry(θ[1]) ├┤ Rz(θ[5]) ├─────────────■──┼──■──┼──■────\n",
      "     ┌┴──────────┤├──────────┤┌──────────┐    │  │  │  │    \n",
      "q_2: ┤ U3(π,0,π) ├┤ Ry(θ[2]) ├┤ Rz(θ[6]) ├────■──■──┼──┼──■─\n",
      "     └┬──────────┤├──────────┤└──────────┘          │  │  │ \n",
      "q_3: ─┤ Ry(θ[3]) ├┤ Rz(θ[7]) ├──────────────────────■──■──■─\n",
      "      └──────────┘└──────────┘                              \n"
     ]
    }
   ],
   "source": [
    "from qiskit.circuit.library import TwoLocal\n",
    "from qiskit_nature.circuit.library import UCCSD, PUCCD, SUCCD\n",
    "\n",
    "# Choose the ansatz\n",
    "ansatz_type = \"TwoLocal\"\n",
    "\n",
    "\n",
    "# Put arguments for twolocal\n",
    "if ansatz_type == \"TwoLocal\":\n",
    "    # Single qubit rotations that are placed on all qubits with independent parameters\n",
    "    rotation_blocks = ['ry', 'rz']\n",
    "    # Entangling gates\n",
    "    entanglement_blocks = 'cz'\n",
    "    # How the qubits are entangled \n",
    "    entanglement = 'full'\n",
    "    # Repetitions of rotation_blocks + entanglement_blocks with independent parameters\n",
    "    repetitions = 1\n",
    "    # Skip the final rotation_blocks layer\n",
    "    skip_final_rotation_layer = True\n",
    "    ansatz = TwoLocal(qubit_op.num_qubits, rotation_blocks, entanglement_blocks, reps=repetitions, \n",
    "                      entanglement=entanglement, skip_final_rotation_layer=skip_final_rotation_layer)\n",
    "    # Add the initial state\n",
    "    ansatz.compose(init_state, front=True, inplace=True)\n",
    "elif ansatz_type == \"UCCSD\":\n",
    "    ansatz = UCCSD(converter,num_particles,num_spin_orbitals,initial_state = init_state)\n",
    "elif ansatz_type == \"PUCCD\":\n",
    "    ansatz = PUCCD(converter,num_particles,num_spin_orbitals,initial_state = init_state)\n",
    "elif ansatz_type == \"SUCCD\":\n",
    "    ansatz = SUCCD(converter,num_particles,num_spin_orbitals,initial_state = init_state)\n",
    "elif ansatz_type == \"Custom\":\n",
    "    # Example of how to write your own circuit\n",
    "    from qiskit.circuit import Parameter, QuantumCircuit, QuantumRegister\n",
    "    # Define the variational parameter\n",
    "    theta = Parameter('a')\n",
    "    n = qubit_op.num_qubits\n",
    "    # Make an empty quantum circuit\n",
    "    qc = QuantumCircuit(qubit_op.num_qubits)\n",
    "    qubit_label = 0\n",
    "    # Place a Hadamard gate\n",
    "    qc.h(qubit_label)\n",
    "    # Place a CNOT ladder\n",
    "    for i in range(n-1):\n",
    "        qc.cx(i, i+1)\n",
    "    # Visual separator\n",
    "    qc.barrier()\n",
    "    # rz rotations on all qubits\n",
    "    qc.rz(theta, range(n))\n",
    "    ansatz = qc\n",
    "    ansatz.compose(init_state, front=True, inplace=True)\n",
    "\n",
    "print(ansatz.decompose())"
   ]
  },
  {
   "cell_type": "markdown",
   "metadata": {},
   "source": [
    "#### Optimizer"
   ]
  },
  {
   "cell_type": "code",
   "execution_count": 9,
   "metadata": {},
   "outputs": [],
   "source": [
    "from qiskit.algorithms.optimizers import COBYLA, L_BFGS_B, SPSA, SLSQP\n",
    "\n",
    "optimizer_type = 'L_BFGS_B'\n",
    "\n",
    "# You may want to tune the parameters \n",
    "# of each optimizer, here the defaults are used\n",
    "if optimizer_type == 'COBYLA':\n",
    "    optimizer = COBYLA(maxiter=500)\n",
    "elif optimizer_type == 'L_BFGS_B':\n",
    "    optimizer = L_BFGS_B(maxfun=500)\n",
    "elif optimizer_type == 'SPSA':\n",
    "    optimizer = SPSA(maxiter=500)\n",
    "elif optimizer_type == 'SLSQP':\n",
    "    optimizer = SLSQP(maxiter=500)"
   ]
  },
  {
   "cell_type": "markdown",
   "metadata": {},
   "source": [
    "### Exact Result"
   ]
  },
  {
   "cell_type": "code",
   "execution_count": 11,
   "metadata": {},
   "outputs": [
    {
     "name": "stdout",
     "output_type": "stream",
     "text": [
      "Exact electronic energy -1.6970070288529018\n",
      "=== GROUND STATE ENERGY ===\n",
      " \n",
      "* Electronic ground state energy (Hartree): -84.700895930366\n",
      "  - computed part:      -1.697007028853\n",
      "  - ActiveSpaceTransformer extracted energy part: -83.003888901513\n",
      "~ Nuclear repulsion energy (Hartree): 9.819476509782\n",
      "> Total ground state energy (Hartree): -74.881419420584\n",
      " \n",
      "=== MEASURED OBSERVABLES ===\n",
      " \n",
      "  0:  # Particles: 2.000 S: 0.000 S^2: 0.000 M: 0.000\n",
      " \n",
      "=== DIPOLE MOMENTS ===\n",
      " \n",
      "~ Nuclear dipole moment (a.u.): [2.86710004  0.0  0.0]\n",
      " \n",
      "  0: \n",
      "  * Electronic dipole moment (a.u.): [2.0649676  0.0  0.0]\n",
      "    - computed part:      [0.0022825  0.0  0.0]\n",
      "    - ActiveSpaceTransformer extracted energy part: [2.0626851  0.0  0.0]\n",
      "  > Dipole moment (a.u.): [0.80213244  0.0  0.0]  Total: 0.80213244\n",
      "                 (debye): [2.0388171  0.0  0.0]  Total: 2.0388171\n",
      " \n"
     ]
    }
   ],
   "source": [
    "from qiskit_nature.algorithms.ground_state_solvers.minimum_eigensolver_factories import NumPyMinimumEigensolverFactory\n",
    "from qiskit_nature.algorithms.ground_state_solvers import GroundStateEigensolver\n",
    "import numpy as np \n",
    "\n",
    "def exact_diagonalizer(problem, converter):\n",
    "    solver = NumPyMinimumEigensolverFactory()\n",
    "    calc = GroundStateEigensolver(converter, solver)\n",
    "    result = calc.solve(problem)\n",
    "    return result\n",
    "\n",
    "result_exact = exact_diagonalizer(problem, converter)\n",
    "exact_energy = np.real(result_exact.eigenenergies[0])\n",
    "print(\"Exact electronic energy\", exact_energy)\n",
    "print(result_exact)\n",
    "\n",
    "# The targeted electronic energy for H2 is -1.85336 Ha\n",
    "# Check with your VQE result."
   ]
  },
  {
   "cell_type": "markdown",
   "metadata": {},
   "source": [
    "### Run QVE"
   ]
  },
  {
   "cell_type": "code",
   "execution_count": 12,
   "metadata": {},
   "outputs": [
    {
     "name": "stdout",
     "output_type": "stream",
     "text": [
      "{   'aux_operator_eigenvalues': None,\n",
      "    'cost_function_evals': 45,\n",
      "    'eigenstate': array([-4.23116430e-15+8.46344497e-17j, -6.69635806e-08+6.69660750e-10j,\n",
      "       -4.12238519e-22+4.12247851e-24j,  6.52354875e-15+2.55398185e-22j,\n",
      "        6.31923718e-08-6.31947257e-10j, -1.00000000e+00+1.06940596e-07j,\n",
      "       -6.15616002e-15-2.41014847e-22j, -9.74096122e-08-9.74125803e-10j,\n",
      "       -2.01395347e-22+2.01401484e-24j,  3.18701991e-15-1.24772436e-22j,\n",
      "        1.96198046e-29+2.09815363e-36j,  3.10446374e-22+3.10457938e-24j,\n",
      "       -3.00753552e-15+1.17745588e-22j, -4.75885727e-08-4.75896501e-10j,\n",
      "       -2.92962868e-22-2.92973781e-24j,  4.63512082e-15+9.27146459e-17j]),\n",
      "    'eigenvalue': (-1.6957619599714928+0j),\n",
      "    'optimal_parameters': {   ParameterVectorElement(θ[7]): 0.01,\n",
      "                              ParameterVectorElement(θ[6]): 0.009999932209593953,\n",
      "                              ParameterVectorElement(θ[2]): 1.339338578834181e-07,\n",
      "                              ParameterVectorElement(θ[3]): 9.518190439912781e-08,\n",
      "                              ParameterVectorElement(θ[5]): 0.010000078300382145,\n",
      "                              ParameterVectorElement(θ[1]): 1.9482896568544803e-07,\n",
      "                              ParameterVectorElement(θ[0]): -1.26391063261992e-07,\n",
      "                              ParameterVectorElement(θ[4]): 0.009999932209593953},\n",
      "    'optimal_point': array([-1.26391063e-07,  1.94828966e-07,  1.33933858e-07,  9.51819044e-08,\n",
      "        9.99993221e-03,  1.00000783e-02,  9.99993221e-03,  1.00000000e-02]),\n",
      "    'optimal_value': -1.6957619599714928,\n",
      "    'optimizer_evals': None,\n",
      "    'optimizer_time': 0.2514069080352783}\n"
     ]
    }
   ],
   "source": [
    "from qiskit.algorithms import VQE\n",
    "from IPython.display import display, clear_output\n",
    "\n",
    "# Print and save the data in lists\n",
    "def callback(eval_count, parameters, mean, std):  \n",
    "    # Overwrites the same line when printing\n",
    "    display(\"Evaluation: {}, Energy: {}, Std: {}\".format(eval_count, mean, std))\n",
    "    clear_output(wait=True)\n",
    "    counts.append(eval_count)\n",
    "    values.append(mean)\n",
    "    params.append(parameters)\n",
    "    deviation.append(std)\n",
    "\n",
    "counts = []\n",
    "values = []\n",
    "params = []\n",
    "deviation = []\n",
    "\n",
    "# Set initial parameters of the ansatz\n",
    "# We choose a fixed small displacement \n",
    "# So all participants start from similar starting point\n",
    "try:\n",
    "    initial_point = [0.01] * len(ansatz.ordered_parameters)\n",
    "except:\n",
    "    initial_point = [0.01] * ansatz.num_parameters\n",
    "\n",
    "algorithm = VQE(ansatz,\n",
    "                optimizer=optimizer,\n",
    "                quantum_instance=backend,\n",
    "                callback=callback,\n",
    "                initial_point=initial_point)\n",
    "\n",
    "result = algorithm.compute_minimum_eigenvalue(qubit_op)\n",
    "\n",
    "print(result)"
   ]
  },
  {
   "cell_type": "code",
   "execution_count": 15,
   "metadata": {},
   "outputs": [
    {
     "name": "stderr",
     "output_type": "stream",
     "text": [
      "/tmp/ipykernel_6761/2841387939.py:72: FutureWarning: The frame.append method is deprecated and will be removed from pandas in a future version. Use pandas.concat instead.\n",
      "  result_df = result_df.append([result_dict])\n"
     ]
    },
    {
     "data": {
      "text/html": [
       "<div>\n",
       "<style scoped>\n",
       "    .dataframe tbody tr th:only-of-type {\n",
       "        vertical-align: middle;\n",
       "    }\n",
       "\n",
       "    .dataframe tbody tr th {\n",
       "        vertical-align: top;\n",
       "    }\n",
       "\n",
       "    .dataframe thead th {\n",
       "        text-align: right;\n",
       "    }\n",
       "</style>\n",
       "<table border=\"1\" class=\"dataframe\">\n",
       "  <thead>\n",
       "    <tr style=\"text-align: right;\">\n",
       "      <th></th>\n",
       "      <th>optimizer</th>\n",
       "      <th>ansatz</th>\n",
       "      <th>rotation blocks</th>\n",
       "      <th>entanglement_blocks</th>\n",
       "      <th>entanglement</th>\n",
       "      <th>repetitions</th>\n",
       "      <th># of qubits</th>\n",
       "      <th># of parameters</th>\n",
       "      <th># of CNOTs</th>\n",
       "      <th># of evaluations</th>\n",
       "      <th>error (mHa)</th>\n",
       "    </tr>\n",
       "  </thead>\n",
       "  <tbody>\n",
       "    <tr>\n",
       "      <th>0</th>\n",
       "      <td>L_BFGS_B</td>\n",
       "      <td>TwoLocal</td>\n",
       "      <td>['ry', 'rz']</td>\n",
       "      <td>cz</td>\n",
       "      <td>full</td>\n",
       "      <td>1.0</td>\n",
       "      <td>4</td>\n",
       "      <td>8</td>\n",
       "      <td>6</td>\n",
       "      <td>45</td>\n",
       "      <td>1.245069e+00</td>\n",
       "    </tr>\n",
       "    <tr>\n",
       "      <th>1</th>\n",
       "      <td>L_BFGS_B</td>\n",
       "      <td>UCCSD</td>\n",
       "      <td>NaN</td>\n",
       "      <td>NaN</td>\n",
       "      <td>NaN</td>\n",
       "      <td>NaN</td>\n",
       "      <td>4</td>\n",
       "      <td>3</td>\n",
       "      <td>56</td>\n",
       "      <td>28</td>\n",
       "      <td>1.330047e-10</td>\n",
       "    </tr>\n",
       "    <tr>\n",
       "      <th>2</th>\n",
       "      <td>L_BFGS_B</td>\n",
       "      <td>PUCCD</td>\n",
       "      <td>NaN</td>\n",
       "      <td>NaN</td>\n",
       "      <td>NaN</td>\n",
       "      <td>NaN</td>\n",
       "      <td>4</td>\n",
       "      <td>1</td>\n",
       "      <td>48</td>\n",
       "      <td>8</td>\n",
       "      <td>3.021139e-09</td>\n",
       "    </tr>\n",
       "    <tr>\n",
       "      <th>3</th>\n",
       "      <td>L_BFGS_B</td>\n",
       "      <td>SUCCD</td>\n",
       "      <td>NaN</td>\n",
       "      <td>NaN</td>\n",
       "      <td>NaN</td>\n",
       "      <td>NaN</td>\n",
       "      <td>4</td>\n",
       "      <td>1</td>\n",
       "      <td>48</td>\n",
       "      <td>8</td>\n",
       "      <td>3.015810e-09</td>\n",
       "    </tr>\n",
       "    <tr>\n",
       "      <th>4</th>\n",
       "      <td>L_BFGS_B</td>\n",
       "      <td>QuantumCircuit</td>\n",
       "      <td>NaN</td>\n",
       "      <td>NaN</td>\n",
       "      <td>NaN</td>\n",
       "      <td>NaN</td>\n",
       "      <td>4</td>\n",
       "      <td>1</td>\n",
       "      <td>3</td>\n",
       "      <td>2</td>\n",
       "      <td>4.241874e+02</td>\n",
       "    </tr>\n",
       "    <tr>\n",
       "      <th>5</th>\n",
       "      <td>L_BFGS_B</td>\n",
       "      <td>QuantumCircuit</td>\n",
       "      <td>NaN</td>\n",
       "      <td>NaN</td>\n",
       "      <td>NaN</td>\n",
       "      <td>NaN</td>\n",
       "      <td>4</td>\n",
       "      <td>1</td>\n",
       "      <td>3</td>\n",
       "      <td>2</td>\n",
       "      <td>4.241874e+02</td>\n",
       "    </tr>\n",
       "    <tr>\n",
       "      <th>6</th>\n",
       "      <td>L_BFGS_B</td>\n",
       "      <td>TwoLocal</td>\n",
       "      <td>['ry', 'rz']</td>\n",
       "      <td>cz</td>\n",
       "      <td>full</td>\n",
       "      <td>1.0</td>\n",
       "      <td>4</td>\n",
       "      <td>8</td>\n",
       "      <td>6</td>\n",
       "      <td>45</td>\n",
       "      <td>1.245069e+00</td>\n",
       "    </tr>\n",
       "    <tr>\n",
       "      <th>0</th>\n",
       "      <td>L_BFGS_B</td>\n",
       "      <td>TwoLocal</td>\n",
       "      <td>[ry, rz]</td>\n",
       "      <td>cz</td>\n",
       "      <td>full</td>\n",
       "      <td>1.0</td>\n",
       "      <td>4</td>\n",
       "      <td>8</td>\n",
       "      <td>6</td>\n",
       "      <td>45</td>\n",
       "      <td>1.245069e+00</td>\n",
       "    </tr>\n",
       "  </tbody>\n",
       "</table>\n",
       "</div>"
      ],
      "text/plain": [
       "  optimizer          ansatz rotation blocks entanglement_blocks entanglement  \\\n",
       "0  L_BFGS_B        TwoLocal    ['ry', 'rz']                  cz         full   \n",
       "1  L_BFGS_B           UCCSD             NaN                 NaN          NaN   \n",
       "2  L_BFGS_B           PUCCD             NaN                 NaN          NaN   \n",
       "3  L_BFGS_B           SUCCD             NaN                 NaN          NaN   \n",
       "4  L_BFGS_B  QuantumCircuit             NaN                 NaN          NaN   \n",
       "5  L_BFGS_B  QuantumCircuit             NaN                 NaN          NaN   \n",
       "6  L_BFGS_B        TwoLocal    ['ry', 'rz']                  cz         full   \n",
       "0  L_BFGS_B        TwoLocal        [ry, rz]                  cz         full   \n",
       "\n",
       "   repetitions  # of qubits  # of parameters  # of CNOTs  # of evaluations  \\\n",
       "0          1.0            4                8           6                45   \n",
       "1          NaN            4                3          56                28   \n",
       "2          NaN            4                1          48                 8   \n",
       "3          NaN            4                1          48                 8   \n",
       "4          NaN            4                1           3                 2   \n",
       "5          NaN            4                1           3                 2   \n",
       "6          1.0            4                8           6                45   \n",
       "0          1.0            4                8           6                45   \n",
       "\n",
       "    error (mHa)  \n",
       "0  1.245069e+00  \n",
       "1  1.330047e-10  \n",
       "2  3.021139e-09  \n",
       "3  3.015810e-09  \n",
       "4  4.241874e+02  \n",
       "5  4.241874e+02  \n",
       "6  1.245069e+00  \n",
       "0  1.245069e+00  "
      ]
     },
     "execution_count": 15,
     "metadata": {},
     "output_type": "execute_result"
    },
    {
     "data": {
      "image/png": "[encoded data removed]",
      "text/plain": [
       "<Figure size 432x288 with 1 Axes>"
      ]
     },
     "metadata": {
      "needs_background": "light"
     },
     "output_type": "display_data"
    }
   ],
   "source": [
    "# Store results in a dictionary\n",
    "from qiskit.transpiler import PassManager\n",
    "from qiskit.transpiler.passes import Unroller\n",
    "\n",
    "# Unroller transpile your circuit into CNOTs and U gates\n",
    "pass_ = Unroller(['u', 'cx'])\n",
    "pm = PassManager(pass_)\n",
    "ansatz_tp = pm.run(ansatz)\n",
    "cnots = ansatz_tp.count_ops()['cx']\n",
    "\n",
    "energy = result.optimal_value\n",
    "\n",
    "if ansatz_type == \"TwoLocal\":\n",
    "    result_dict = {\n",
    "        'optimizer': optimizer.__class__.__name__,\n",
    "        'mapping': converter.mapper.__class__.__name__,\n",
    "        'ansatz': ansatz.__class__.__name__,\n",
    "        'rotation blocks': rotation_blocks,\n",
    "        'entanglement_blocks': entanglement_blocks,\n",
    "        'entanglement': entanglement,\n",
    "        'repetitions': repetitions,\n",
    "        'skip_final_rotation_layer': skip_final_rotation_layer,\n",
    "        'energy (Ha)': energy,\n",
    "        'error (mHa)': (energy-exact_energy)*1000,\n",
    "        '# of parameters': len(result.optimal_point),\n",
    "        'final parameters': result.optimal_point,\n",
    "        '# of evaluations': result.cost_function_evals,\n",
    "        '# of qubits': int(qubit_op.num_qubits),\n",
    "        '# of CNOTs': cnots}\n",
    "else:\n",
    "    result_dict = {\n",
    "        'optimizer': optimizer.__class__.__name__,\n",
    "        'mapping': converter.mapper.__class__.__name__,\n",
    "        'ansatz': ansatz.__class__.__name__,\n",
    "        'rotation blocks': None,\n",
    "        'entanglement_blocks': None,\n",
    "        'entanglement': None,\n",
    "        'repetitions': None,\n",
    "        'skip_final_rotation_layer': None,\n",
    "        'energy (Ha)': energy,\n",
    "        'error (mHa)': (energy-exact_energy)*1000,\n",
    "        '# of parameters': len(result.optimal_point),\n",
    "        'final parameters': result.optimal_point,\n",
    "        '# of evaluations': result.cost_function_evals,\n",
    "        '# of qubits': int(qubit_op.num_qubits),\n",
    "        '# of CNOTs': cnots}\n",
    "\n",
    "# Plot the results\n",
    "import matplotlib.pyplot as plt\n",
    "\n",
    "fig, ax = plt.subplots(1, 1)\n",
    "ax.set_xlabel('Iterations')\n",
    "ax.set_ylabel('Energy')\n",
    "ax.grid()\n",
    "fig.text(0.7, 0.75, f'Energy: {result.optimal_value:.3f}')\n",
    "plt.title(f\"{result_dict['optimizer']}-{result_dict['mapping']}\\n{result_dict['ansatz']}\")\n",
    "ax.plot(counts, values)\n",
    "ax.axhline(exact_energy, linestyle='--')\n",
    "fig_title = f\"\\\n",
    "{result_dict['optimizer']}-\\\n",
    "{result_dict['mapping']}-\\\n",
    "{result_dict['ansatz']}-\\\n",
    "Energy({result_dict['energy (Ha)']:.3f}).png\"\n",
    "fig.savefig(fig_title, dpi=300)\n",
    "\n",
    "# Display and save the data\n",
    "import pandas as pd\n",
    "import os.path\n",
    "filename = 'results_h2o.csv'\n",
    "if os.path.isfile(filename):\n",
    "    result_df = pd.read_csv(filename)\n",
    "    result_df = result_df.append([result_dict])\n",
    "else:\n",
    "    result_df = pd.DataFrame.from_dict([result_dict])\n",
    "result_df.to_csv(filename)\n",
    "result_df[['optimizer','ansatz', 'rotation blocks', 'entanglement_blocks',\n",
    "    'entanglement', 'repetitions', '# of qubits', '# of parameters', '# of CNOTs', '# of evaluations', 'error (mHa)']]"
   ]
  },
  {
   "cell_type": "code",
   "execution_count": 17,
   "metadata": {},
   "outputs": [
    {
     "name": "stdout",
     "output_type": "stream",
     "text": [
      "<module 'posixpath' from '/home/abdurrahmanws/miniconda3/envs/qc/lib/python3.10/posixpath.py'>\n"
     ]
    }
   ],
   "source": [
    "print(os.path)"
   ]
  },
  {
   "cell_type": "code",
   "execution_count": null,
   "metadata": {},
   "outputs": [],
   "source": []
  }
 ],
 "metadata": {
  "kernelspec": {
   "display_name": "qc",
   "language": "python",
   "name": "qc"
  },
  "language_info": {
   "codemirror_mode": {
    "name": "ipython",
    "version": 3
   },
   "file_extension": ".py",
   "mimetype": "text/x-python",
   "name": "python",
   "nbconvert_exporter": "python",
   "pygments_lexer": "ipython3",
   "version": "3.10.4"
  },
  "orig_nbformat": 4
 },
 "nbformat": 4,
 "nbformat_minor": 2
}
